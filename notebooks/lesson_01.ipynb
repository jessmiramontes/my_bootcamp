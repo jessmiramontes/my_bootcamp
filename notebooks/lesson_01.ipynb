{
 "cells": [
  {
   "cell_type": "code",
   "execution_count": 1,
   "metadata": {},
   "outputs": [],
   "source": [
    "#Data Types\n",
    "contador = 3\n",
    "numero_pi = 3.14159\n",
    "cadena = \"Python es lo máximo\"\n",
    "flag = True"
   ]
  },
  {
   "cell_type": "code",
   "execution_count": 2,
   "metadata": {},
   "outputs": [],
   "source": [
    "#Data Types with typing\n",
    "contador: int = 3 \n",
    "numero_pi: float = 3.14159\n",
    "cadena: str = \"Python es lo máximo\"\n",
    "flag: bool = True "
   ]
  },
  {
   "cell_type": "code",
   "execution_count": 3,
   "metadata": {},
   "outputs": [
    {
     "name": "stdout",
     "output_type": "stream",
     "text": [
      "True\n",
      "True\n",
      "True\n"
     ]
    }
   ],
   "source": [
    "#Operadores lógicos  Logical Operators\n",
    "print(True and True)\n",
    "print(True or False)\n",
    "print(not False)\n"
   ]
  },
  {
   "cell_type": "code",
   "execution_count": 7,
   "metadata": {},
   "outputs": [
    {
     "name": "stdout",
     "output_type": "stream",
     "text": [
      "6\n",
      "80\n",
      "8.0\n",
      "3.5\n",
      "1\n",
      "4\n",
      "4.5\n"
     ]
    }
   ],
   "source": [
    "#Arithmetic Operators\n",
    "print(3+3) #suma\n",
    "print(10*8) #multiplicación\n",
    "print(24/3) #división\n",
    "print(10.9-7.4) #resta \n",
    "print(9%2) #módulo es el residuo  %\n",
    "print(9//2) #división entera\n",
    "print(9/2)"
   ]
  },
  {
   "cell_type": "code",
   "execution_count": 8,
   "metadata": {},
   "outputs": [],
   "source": [
    "#Colecciones   Collections\n",
    "my_list = [1,2,3,4] #colección ordenada y mutable\n",
    "my_tuple = (\"fish\", \"chips\") #es una colección ordenada no mutable\n",
    "my_set = {\"a\", \"b\", \"c\"} #es una colección no ordenada, mutable solo cuando se sacan o se meten valores, sin repeticiones\n",
    "my_dict = {\"name\": \"Peter\", \"last_name\":\"Smith\"} #es una colección llave : valor, es ordenada y mutable\n"
   ]
  },
  {
   "cell_type": "code",
   "execution_count": 18,
   "metadata": {},
   "outputs": [
    {
     "data": {
      "text/plain": [
       "{'name': 'Soledad', 'last_name': 'Rios'}"
      ]
     },
     "execution_count": 18,
     "metadata": {},
     "output_type": "execute_result"
    }
   ],
   "source": [
    "#cada valor está indexado en la lista por eso es ordenada y es mutable porque puedo cambiar los valores\n",
    "my_list[3]\n",
    "my_list[3] = 5\n",
    "my_list\n",
    "\n",
    "my_tuple[1] #colección ordenada pero no es mutable y no le puedo cambiar los valores\n",
    "#my_tuple[1] = \"bacon\" esto da error\n",
    "\n",
    "my_set #parece que es ordenado pero no lo puedo llamar por posición\n",
    "#my_set[2] da error porque no es ordenada \n",
    "\n",
    "my_second_set = {\"x\", \"y\", \"z\", \"x\"} #sólo imprime los valores únicos\n",
    "my_second_set\n",
    "\n",
    "my_dict[\"last_name\"] #no se puede tener llaves iguales ver abajo\n",
    "my_second_dict = {\"name\": \"Maria\", \"name\" : \"Soledad\", \"last_name\" : \"Rios\"}\n",
    "my_second_dict"
   ]
  },
  {
   "cell_type": "code",
   "execution_count": 20,
   "metadata": {},
   "outputs": [
    {
     "name": "stdout",
     "output_type": "stream",
     "text": [
      "10 no es menor\n",
      "El equipo A ganó\n"
     ]
    }
   ],
   "source": [
    "#Estructuras de control: sequence, selection, iteration\n",
    "# Teorema de Bohm Jacopini \n",
    "\n",
    "#estructura de selección\n",
    "if 10 < 4:\n",
    "    print(\"10 es menor\")\n",
    "else:\n",
    "    print(\"10 no es menor\")\n",
    "\n",
    "score_team_a = 3\n",
    "score_team_b = 1\n",
    "\n",
    "if score_team_a < score_team_b:\n",
    "    print(\"El equipo a perdió\")\n",
    "elif score_team_a > score_team_b:\n",
    "    print(\"El equipo A ganó\")\n",
    "else:\n",
    "    print(\"Fue empate\")"
   ]
  },
  {
   "cell_type": "code",
   "execution_count": 23,
   "metadata": {},
   "outputs": [
    {
     "name": "stdout",
     "output_type": "stream",
     "text": [
      "7\n",
      "10\n",
      "5\n",
      "0\n",
      "4\n",
      "3\n",
      "2\n",
      "1\n"
     ]
    }
   ],
   "source": [
    "my_second_list = [7,10,5,0]\n",
    "#ciclo for iterativo \n",
    "for i in my_second_list:\n",
    "    print(i)\n",
    "\n",
    "my_number = 4\n",
    "\n",
    "#asegurárse que tiene un final\n",
    "while my_number > 0:\n",
    "    print(my_number)\n",
    "    #my_number = my_number - 1 es igual a lo de abajo\n",
    "    my_number -=1 "
   ]
  },
  {
   "cell_type": "code",
   "execution_count": 25,
   "metadata": {},
   "outputs": [
    {
     "data": {
      "text/plain": [
       "array([6, 7, 8, 9])"
      ]
     },
     "execution_count": 25,
     "metadata": {},
     "output_type": "execute_result"
    }
   ],
   "source": [
    "import numpy as np #Data Science algebra lineal, para un conjunto de valores hay un resultado\n",
    "#de un montón de valores tratamos de predecit algo\n",
    "# vectores y matrices\n",
    "my_vector = np.array([6,7,8,9])\n",
    "my_vector "
   ]
  },
  {
   "cell_type": "code",
   "execution_count": 30,
   "metadata": {},
   "outputs": [
    {
     "name": "stdout",
     "output_type": "stream",
     "text": [
      "[[6 7]\n",
      " [8 9]]\n",
      "(2, 2)\n"
     ]
    }
   ],
   "source": [
    "my_vector.shape #este método da las dimensiones de este objeto array de numpy\n",
    "my_matrix = np.array([[6, 7], [8, 9]])\n",
    "print(my_matrix)\n",
    "print(my_matrix.shape)"
   ]
  },
  {
   "cell_type": "code",
   "execution_count": 31,
   "metadata": {},
   "outputs": [
    {
     "data": {
      "text/plain": [
       "np.float64(7.5)"
      ]
     },
     "execution_count": 31,
     "metadata": {},
     "output_type": "execute_result"
    }
   ],
   "source": [
    "np.mean(my_vector)  #promedio o la media de los elementos contenidos en el vector\n"
   ]
  },
  {
   "cell_type": "code",
   "execution_count": 32,
   "metadata": {},
   "outputs": [
    {
     "data": {
      "text/plain": [
       "np.float64(1.118033988749895)"
      ]
     },
     "execution_count": 32,
     "metadata": {},
     "output_type": "execute_result"
    }
   ],
   "source": [
    "np.std(my_vector) #desviación estándar cuando se desvía de la media"
   ]
  },
  {
   "cell_type": "code",
   "execution_count": 2,
   "metadata": {},
   "outputs": [],
   "source": [
    "import pandas as pd\n",
    "import matplotlib.pyplot as plt\n"
   ]
  },
  {
   "cell_type": "code",
   "execution_count": 7,
   "metadata": {},
   "outputs": [
    {
     "data": {
      "text/html": [
       "<div>\n",
       "<style scoped>\n",
       "    .dataframe tbody tr th:only-of-type {\n",
       "        vertical-align: middle;\n",
       "    }\n",
       "\n",
       "    .dataframe tbody tr th {\n",
       "        vertical-align: top;\n",
       "    }\n",
       "\n",
       "    .dataframe thead th {\n",
       "        text-align: right;\n",
       "    }\n",
       "</style>\n",
       "<table border=\"1\" class=\"dataframe\">\n",
       "  <thead>\n",
       "    <tr style=\"text-align: right;\">\n",
       "      <th></th>\n",
       "      <th>age</th>\n",
       "      <th>weight</th>\n",
       "    </tr>\n",
       "  </thead>\n",
       "  <tbody>\n",
       "    <tr>\n",
       "      <th>0</th>\n",
       "      <td>23</td>\n",
       "      <td>70</td>\n",
       "    </tr>\n",
       "    <tr>\n",
       "      <th>1</th>\n",
       "      <td>45</td>\n",
       "      <td>80</td>\n",
       "    </tr>\n",
       "    <tr>\n",
       "      <th>2</th>\n",
       "      <td>33</td>\n",
       "      <td>65</td>\n",
       "    </tr>\n",
       "    <tr>\n",
       "      <th>3</th>\n",
       "      <td>29</td>\n",
       "      <td>72</td>\n",
       "    </tr>\n",
       "  </tbody>\n",
       "</table>\n",
       "</div>"
      ],
      "text/plain": [
       "   age  weight\n",
       "0   23      70\n",
       "1   45      80\n",
       "2   33      65\n",
       "3   29      72"
      ]
     },
     "execution_count": 7,
     "metadata": {},
     "output_type": "execute_result"
    }
   ],
   "source": [
    "#crear data frame de pandas que puede contener una matriz creada en numpy\n",
    "df = pd.DataFrame({\"age\":[23,45,33,29], \"weight\":[70,80,65,72]})\n",
    "df"
   ]
  },
  {
   "cell_type": "markdown",
   "metadata": {},
   "source": [
    "Hay un vector, el eje edad, hay otro vector en el eje peso"
   ]
  },
  {
   "cell_type": "code",
   "execution_count": 9,
   "metadata": {},
   "outputs": [
    {
     "data": {
      "image/png": "[encoded data removed]",
      "text/plain": [
       "<Figure size 640x480 with 1 Axes>"
      ]
     },
     "metadata": {},
     "output_type": "display_data"
    }
   ],
   "source": [
    "plt.plot(df[\"age\"])\n",
    "plt.title(\"grafico de líneas\")\n",
    "plt.show()"
   ]
  },
  {
   "cell_type": "code",
   "execution_count": 13,
   "metadata": {},
   "outputs": [
    {
     "data": {
      "image/png": "[encoded data removed]",
      "text/plain": [
       "<Figure size 640x480 with 1 Axes>"
      ]
     },
     "metadata": {},
     "output_type": "display_data"
    }
   ],
   "source": [
    "plt.bar([1,2,3,4],df[\"age\"])\n",
    "plt.title(\"grafico de líneas\")\n",
    "plt.show()"
   ]
  }
 ],
 "metadata": {
  "kernelspec": {
   "display_name": ".venv",
   "language": "python",
   "name": "python3"
  },
  "language_info": {
   "codemirror_mode": {
    "name": "ipython",
    "version": 3
   },
   "file_extension": ".py",
   "mimetype": "text/x-python",
   "name": "python",
   "nbconvert_exporter": "python",
   "pygments_lexer": "ipython3",
   "version": "3.12.1"
  }
 },
 "nbformat": 4,
 "nbformat_minor": 2
}
